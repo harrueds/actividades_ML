{
 "cells": [
  {
   "cell_type": "markdown",
   "id": "ebbfd5a0",
   "metadata": {},
   "source": [
    "<h1>Función con bucles nativos</h1>\n",
    "<p>La función recorre un arreglo y calcula la suma de los productos consecutivos, el primero con el segundo, el segundo con el tercero, y así sucesivamente.</p>\n",
    "<p>El tiempo se mide con time.</p>"
   ]
  },
  {
   "cell_type": "code",
   "execution_count": 18,
   "id": "b3103505",
   "metadata": {},
   "outputs": [
    {
     "name": "stdout",
     "output_type": "stream",
     "text": [
      "Resultado (bucle): 249600.38992364935\n",
      "Tiempo (bucle): 0.2981865406036377 segundos\n"
     ]
    }
   ],
   "source": [
    "import time\n",
    "import random\n",
    "\n",
    "# Crear una lista con un millón de números aleatorios\n",
    "data = [random.random() for _ in range(10**6)]\n",
    "\n",
    "\n",
    "# Calcular la suma de los productos\n",
    "def suma_productos_bucle(arr):\n",
    "    resultado = 0.0\n",
    "    for i in range(len(arr) - 1):\n",
    "        resultado += arr[i] * arr[i + 1]\n",
    "    return resultado\n",
    "\n",
    "\n",
    "# Medición de tiempo de ejecución\n",
    "start = time.time()\n",
    "resultado_bucle = suma_productos_bucle(data)\n",
    "end = time.time()\n",
    "print(\"Resultado (bucle):\", resultado_bucle)\n",
    "print(\"Tiempo (bucle):\", end - start, \"segundos\")\n"
   ]
  },
  {
   "cell_type": "markdown",
   "id": "0c8fdf0f",
   "metadata": {},
   "source": [
    "<h1>Optimización con Numpy</h1>\n",
    "<p>Se utilizan operaciones vectorizadas, eliminando el bucle y aprovechando la eficiencia interna de Numpy</p>"
   ]
  },
  {
   "cell_type": "code",
   "execution_count": 19,
   "id": "a83923b8",
   "metadata": {},
   "outputs": [
    {
     "name": "stdout",
     "output_type": "stream",
     "text": [
      "Resultado (NumPy): 249600.38992365715\n",
      "Tiempo (NumPy): 0.07817339897155762 segundos\n"
     ]
    }
   ],
   "source": [
    "import numpy as np\n",
    "\n",
    "# Convertir la lista a un array de NumPy\n",
    "np_data = np.array(data)\n",
    "\n",
    "\n",
    "def suma_productos_numpy(arr):\n",
    "    return np.sum(arr[:-1] * arr[1:])\n",
    "\n",
    "\n",
    "# Medición de tiempo\n",
    "start = time.time()\n",
    "resultado_numpy = suma_productos_numpy(np_data)\n",
    "end = time.time()\n",
    "print(\"Resultado (NumPy):\", resultado_numpy)\n",
    "print(\"Tiempo (NumPy):\", end - start, \"segundos\")\n"
   ]
  },
  {
   "cell_type": "markdown",
   "id": "32690a96",
   "metadata": {},
   "source": [
    "<h1>Optimización con Numba</h1>\n",
    "<p>Numba traduce la función a código de máquina al vuelo (JIT Just In Time), esto acelera la ejecución pero no modifica el código.</p>"
   ]
  },
  {
   "cell_type": "code",
   "execution_count": 20,
   "id": "d0d63f3c",
   "metadata": {},
   "outputs": [
    {
     "name": "stdout",
     "output_type": "stream",
     "text": [
      "Resultado (Numba): 249600.38992364935\n",
      "Tiempo (Numba): 0.894108772277832 segundos\n"
     ]
    }
   ],
   "source": [
    "from numba import jit\n",
    "\n",
    "\n",
    "@jit(nopython=True)\n",
    "def suma_productos_numba(arr):\n",
    "    resultado = 0.0\n",
    "    for i in range(len(arr) - 1):\n",
    "        resultado += arr[i] * arr[i + 1]\n",
    "    return resultado\n",
    "\n",
    "\n",
    "# Convertimos la lista a NumPy para Numba\n",
    "arr_numba = np.array(data)\n",
    "\n",
    "# Medición de tiempo\n",
    "start = time.time()\n",
    "resultado_numba = suma_productos_numba(arr_numba)\n",
    "end = time.time()\n",
    "print(\"Resultado (Numba):\", resultado_numba)\n",
    "print(\"Tiempo (Numba):\", end - start, \"segundos\")\n"
   ]
  },
  {
   "cell_type": "markdown",
   "id": "33f264db",
   "metadata": {},
   "source": [
    "<h1>Context manager personalizado para medir tiempo</h1>\n",
    "<p>Esto permite encapsular la medición de tempo e forma limpia y reutilizable.</p>"
   ]
  },
  {
   "cell_type": "code",
   "execution_count": 21,
   "id": "4fafc599",
   "metadata": {},
   "outputs": [
    {
     "name": "stdout",
     "output_type": "stream",
     "text": [
      "Tiempo total con NumPy: 0.046068 segundos\n"
     ]
    }
   ],
   "source": [
    "from contextlib import contextmanager\n",
    "\n",
    "\n",
    "@contextmanager\n",
    "def medir_tiempo(etiqueta):\n",
    "    start = time.time()\n",
    "    yield\n",
    "    end = time.time()\n",
    "    print(f\"{etiqueta}: {end - start:.6f} segundos\")\n",
    "\n",
    "\n",
    "# Ejemplo de uso\n",
    "with medir_tiempo(\"Tiempo total con NumPy\"):\n",
    "    suma_productos_numpy(np_data)\n"
   ]
  }
 ],
 "metadata": {
  "kernelspec": {
   "display_name": "ml_env",
   "language": "python",
   "name": "python3"
  },
  "language_info": {
   "codemirror_mode": {
    "name": "ipython",
    "version": 3
   },
   "file_extension": ".py",
   "mimetype": "text/x-python",
   "name": "python",
   "nbconvert_exporter": "python",
   "pygments_lexer": "ipython3",
   "version": "3.11.2"
  }
 },
 "nbformat": 4,
 "nbformat_minor": 5
}
